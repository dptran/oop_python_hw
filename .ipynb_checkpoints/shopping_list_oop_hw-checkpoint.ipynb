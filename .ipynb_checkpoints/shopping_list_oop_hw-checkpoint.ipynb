{
 "cells": [
  {
   "cell_type": "code",
   "execution_count": null,
   "id": "fcba648d",
   "metadata": {},
   "outputs": [],
   "source": [
    "#Should have the following capabilities:\n",
    "\n",
    "# 1) Takes in input\n",
    "# 2) Stores user input into a list\n",
    "# 3) User can add or delete items\n",
    "# 4) User can see current shopping list\n",
    "# 5) Loops until user 'quits'\n",
    "# 6) Upon quiting the program, print out all items in the user's list\n",
    "\n",
    "from IPython.display import clear_output as co\n",
    "\n",
    "def show_instructions():\n",
    "    print(\"\"\"Type 'add' to add a new item to your shopping list.\n",
    "Type 'delete' to remove an item from your shopping list.\n",
    "Type 'show' to list all current items on your list.\n",
    "Type 'quit' to exit the program.\"\"\")\n",
    "    print(\"=\"*50)\n",
    "\n",
    "\n",
    "class Shopping:\n",
    "    def __init__(self):\n",
    "    \n",
    "    def shopping_list(self):\n",
    "        input('Welcome to Shopping List! Press any key to continue. ')\n",
    "        print(\"=\"*50)\n",
    "\n",
    "        items = []\n",
    "        done = False\n",
    "\n",
    "        while not done:\n",
    "            co()\n",
    "\n",
    "            show_instructions()\n",
    "\n",
    "            choice = input(\"What is your choice? Add | Show? | Delete | Quit \").lower()\n",
    "            if choice == 'add':\n",
    "                item_name = input(\"Type in the name of the item. \").lower()\n",
    "\n",
    "                item_dictionary = {\n",
    "                    'item_name': item_name,\n",
    "                }\n",
    "\n",
    "                items.append(item_dictionary)\n",
    "\n",
    "            elif choice == 'show':\n",
    "                for item in items:\n",
    "                    print(item)\n",
    "                input('Press any key to continue')\n",
    "            elif choice == 'delete':\n",
    "                item_name = input(\"What would you like to remove? \").lower()\n",
    "                items = [i for i in items if not (i['item_name'] == item_name)]\n",
    "            elif choice == 'quit':\n",
    "                confirm = input('Are you sure you want to quit? Y/N? ').lower()\n",
    "                if confirm == 'y':\n",
    "                    done = True\n",
    "                elif confirm == 'n':\n",
    "                    continue\n",
    "\n",
    "\n",
    "        print(items)\n",
    "\n",
    "my_list = Shopping(0)\n"
   ]
  },
  {
   "cell_type": "code",
   "execution_count": null,
   "id": "5276d107",
   "metadata": {},
   "outputs": [
    {
     "name": "stdout",
     "output_type": "stream",
     "text": [
      "Type 'add' to add a new item to your shopping list.\n",
      "Type 'delete' to remove an item from your shopping list.\n",
      "Type 'show' to list all current items on your list.\n",
      "Type 'quit' to exit the program.\n",
      "==================================================\n"
     ]
    }
   ],
   "source": [
    "my_list.shopping_list()"
   ]
  },
  {
   "cell_type": "code",
   "execution_count": null,
   "id": "7fef1069",
   "metadata": {},
   "outputs": [],
   "source": []
  }
 ],
 "metadata": {
  "kernelspec": {
   "display_name": "Python 3",
   "language": "python",
   "name": "python3"
  },
  "language_info": {
   "codemirror_mode": {
    "name": "ipython",
    "version": 3
   },
   "file_extension": ".py",
   "mimetype": "text/x-python",
   "name": "python",
   "nbconvert_exporter": "python",
   "pygments_lexer": "ipython3",
   "version": "3.8.8"
  }
 },
 "nbformat": 4,
 "nbformat_minor": 5
}
